{
 "cells": [
  {
   "cell_type": "markdown",
   "metadata": {},
   "source": [
    "## Gather Data:\n",
    "- Import relevant libraries\n",
    "- Read in data from CSV"
   ]
  },
  {
   "cell_type": "code",
   "execution_count": 1,
   "metadata": {},
   "outputs": [
    {
     "name": "stdout",
     "output_type": "stream",
     "text": [
      "All libraries have been imported successfully\n"
     ]
    }
   ],
   "source": [
    "# Import relevant libraries\n",
    "import numpy as np\n",
    "import pandas as pd\n",
    "import matplotlib.pyplot as plt\n",
    "# import seaborn as sns\n",
    "%matplotlib inline\n",
    "\n",
    "print(\"All libraries have been imported successfully\")"
   ]
  },
  {
   "cell_type": "code",
   "execution_count": 2,
   "metadata": {},
   "outputs": [
    {
     "name": "stderr",
     "output_type": "stream",
     "text": [
      "C:\\ProgramData\\Anaconda3\\lib\\site-packages\\IPython\\core\\interactiveshell.py:3049: DtypeWarning: Columns (1,2,5,12) have mixed types. Specify dtype option on import or set low_memory=False.\n",
      "  interactivity=interactivity, compiler=compiler, result=result)\n"
     ]
    },
    {
     "data": {
      "text/html": [
       "<div>\n",
       "<style scoped>\n",
       "    .dataframe tbody tr th:only-of-type {\n",
       "        vertical-align: middle;\n",
       "    }\n",
       "\n",
       "    .dataframe tbody tr th {\n",
       "        vertical-align: top;\n",
       "    }\n",
       "\n",
       "    .dataframe thead th {\n",
       "        text-align: right;\n",
       "    }\n",
       "</style>\n",
       "<table border=\"1\" class=\"dataframe\">\n",
       "  <thead>\n",
       "    <tr style=\"text-align: right;\">\n",
       "      <th></th>\n",
       "      <th>C_YEAR</th>\n",
       "      <th>C_MNTH</th>\n",
       "      <th>C_WDAY</th>\n",
       "      <th>C_HOUR</th>\n",
       "      <th>C_SEV</th>\n",
       "      <th>C_VEHS</th>\n",
       "      <th>C_CONF</th>\n",
       "      <th>C_RCFG</th>\n",
       "      <th>C_WTHR</th>\n",
       "      <th>C_RSUR</th>\n",
       "      <th>...</th>\n",
       "      <th>V_ID</th>\n",
       "      <th>V_TYPE</th>\n",
       "      <th>V_YEAR</th>\n",
       "      <th>P_ID</th>\n",
       "      <th>P_SEX</th>\n",
       "      <th>P_AGE</th>\n",
       "      <th>P_PSN</th>\n",
       "      <th>P_ISEV</th>\n",
       "      <th>P_SAFE</th>\n",
       "      <th>P_USER</th>\n",
       "    </tr>\n",
       "  </thead>\n",
       "  <tbody>\n",
       "    <tr>\n",
       "      <th>0</th>\n",
       "      <td>1999</td>\n",
       "      <td>1</td>\n",
       "      <td>1</td>\n",
       "      <td>20</td>\n",
       "      <td>2</td>\n",
       "      <td>02</td>\n",
       "      <td>34</td>\n",
       "      <td>UU</td>\n",
       "      <td>1</td>\n",
       "      <td>5</td>\n",
       "      <td>...</td>\n",
       "      <td>01</td>\n",
       "      <td>06</td>\n",
       "      <td>1990</td>\n",
       "      <td>01</td>\n",
       "      <td>M</td>\n",
       "      <td>41</td>\n",
       "      <td>11</td>\n",
       "      <td>1</td>\n",
       "      <td>UU</td>\n",
       "      <td>1</td>\n",
       "    </tr>\n",
       "    <tr>\n",
       "      <th>1</th>\n",
       "      <td>1999</td>\n",
       "      <td>1</td>\n",
       "      <td>1</td>\n",
       "      <td>20</td>\n",
       "      <td>2</td>\n",
       "      <td>02</td>\n",
       "      <td>34</td>\n",
       "      <td>UU</td>\n",
       "      <td>1</td>\n",
       "      <td>5</td>\n",
       "      <td>...</td>\n",
       "      <td>02</td>\n",
       "      <td>01</td>\n",
       "      <td>1987</td>\n",
       "      <td>01</td>\n",
       "      <td>M</td>\n",
       "      <td>19</td>\n",
       "      <td>11</td>\n",
       "      <td>1</td>\n",
       "      <td>UU</td>\n",
       "      <td>1</td>\n",
       "    </tr>\n",
       "    <tr>\n",
       "      <th>2</th>\n",
       "      <td>1999</td>\n",
       "      <td>1</td>\n",
       "      <td>1</td>\n",
       "      <td>20</td>\n",
       "      <td>2</td>\n",
       "      <td>02</td>\n",
       "      <td>34</td>\n",
       "      <td>UU</td>\n",
       "      <td>1</td>\n",
       "      <td>5</td>\n",
       "      <td>...</td>\n",
       "      <td>02</td>\n",
       "      <td>01</td>\n",
       "      <td>1987</td>\n",
       "      <td>02</td>\n",
       "      <td>F</td>\n",
       "      <td>20</td>\n",
       "      <td>13</td>\n",
       "      <td>2</td>\n",
       "      <td>02</td>\n",
       "      <td>2</td>\n",
       "    </tr>\n",
       "    <tr>\n",
       "      <th>3</th>\n",
       "      <td>1999</td>\n",
       "      <td>1</td>\n",
       "      <td>1</td>\n",
       "      <td>08</td>\n",
       "      <td>2</td>\n",
       "      <td>01</td>\n",
       "      <td>01</td>\n",
       "      <td>UU</td>\n",
       "      <td>5</td>\n",
       "      <td>3</td>\n",
       "      <td>...</td>\n",
       "      <td>01</td>\n",
       "      <td>01</td>\n",
       "      <td>1986</td>\n",
       "      <td>01</td>\n",
       "      <td>M</td>\n",
       "      <td>46</td>\n",
       "      <td>11</td>\n",
       "      <td>1</td>\n",
       "      <td>UU</td>\n",
       "      <td>1</td>\n",
       "    </tr>\n",
       "    <tr>\n",
       "      <th>4</th>\n",
       "      <td>1999</td>\n",
       "      <td>1</td>\n",
       "      <td>1</td>\n",
       "      <td>08</td>\n",
       "      <td>2</td>\n",
       "      <td>01</td>\n",
       "      <td>01</td>\n",
       "      <td>UU</td>\n",
       "      <td>5</td>\n",
       "      <td>3</td>\n",
       "      <td>...</td>\n",
       "      <td>99</td>\n",
       "      <td>NN</td>\n",
       "      <td>NNNN</td>\n",
       "      <td>01</td>\n",
       "      <td>M</td>\n",
       "      <td>05</td>\n",
       "      <td>99</td>\n",
       "      <td>2</td>\n",
       "      <td>UU</td>\n",
       "      <td>3</td>\n",
       "    </tr>\n",
       "  </tbody>\n",
       "</table>\n",
       "<p>5 rows × 22 columns</p>\n",
       "</div>"
      ],
      "text/plain": [
       "   C_YEAR C_MNTH C_WDAY C_HOUR  C_SEV C_VEHS C_CONF C_RCFG C_WTHR C_RSUR  ...  \\\n",
       "0    1999      1      1     20      2     02     34     UU      1      5  ...   \n",
       "1    1999      1      1     20      2     02     34     UU      1      5  ...   \n",
       "2    1999      1      1     20      2     02     34     UU      1      5  ...   \n",
       "3    1999      1      1     08      2     01     01     UU      5      3  ...   \n",
       "4    1999      1      1     08      2     01     01     UU      5      3  ...   \n",
       "\n",
       "  V_ID V_TYPE V_YEAR P_ID P_SEX P_AGE P_PSN P_ISEV P_SAFE P_USER  \n",
       "0   01     06   1990   01     M    41    11      1     UU      1  \n",
       "1   02     01   1987   01     M    19    11      1     UU      1  \n",
       "2   02     01   1987   02     F    20    13      2     02      2  \n",
       "3   01     01   1986   01     M    46    11      1     UU      1  \n",
       "4   99     NN   NNNN   01     M    05    99      2     UU      3  \n",
       "\n",
       "[5 rows x 22 columns]"
      ]
     },
     "execution_count": 2,
     "metadata": {},
     "output_type": "execute_result"
    }
   ],
   "source": [
    "# Copy in NCDB_1999_to_2014 datatset\n",
    "df = pd.read_csv(\"./data/NCDB_1999_to_2014.csv\")\n",
    "df.head()"
   ]
  },
  {
   "cell_type": "markdown",
   "metadata": {},
   "source": [
    "## Assess Data:\n",
    "- Get some basic information about data like shape and info\n",
    "- Find out if there are any NA values\n",
    "- Find out if the dtype is inconsistent with what is expected and investigate why"
   ]
  },
  {
   "cell_type": "code",
   "execution_count": 3,
   "metadata": {
    "scrolled": true
   },
   "outputs": [
    {
     "name": "stdout",
     "output_type": "stream",
     "text": [
      "(5860405, 22)\n",
      "<class 'pandas.core.frame.DataFrame'>\n",
      "RangeIndex: 5860405 entries, 0 to 5860404\n",
      "Data columns (total 22 columns):\n",
      "C_YEAR    int64\n",
      "C_MNTH    object\n",
      "C_WDAY    object\n",
      "C_HOUR    object\n",
      "C_SEV     int64\n",
      "C_VEHS    object\n",
      "C_CONF    object\n",
      "C_RCFG    object\n",
      "C_WTHR    object\n",
      "C_RSUR    object\n",
      "C_RALN    object\n",
      "C_TRAF    object\n",
      "V_ID      object\n",
      "V_TYPE    object\n",
      "V_YEAR    object\n",
      "P_ID      object\n",
      "P_SEX     object\n",
      "P_AGE     object\n",
      "P_PSN     object\n",
      "P_ISEV    object\n",
      "P_SAFE    object\n",
      "P_USER    object\n",
      "dtypes: int64(2), object(20)\n",
      "memory usage: 983.6+ MB\n",
      "None\n"
     ]
    }
   ],
   "source": [
    "# Get some info about the data\n",
    "print(df.shape)\n",
    "print(df.info())"
   ]
  },
  {
   "cell_type": "code",
   "execution_count": 4,
   "metadata": {},
   "outputs": [
    {
     "name": "stdout",
     "output_type": "stream",
     "text": [
      "C_YEAR    0\n",
      "C_MNTH    0\n",
      "C_WDAY    0\n",
      "C_HOUR    0\n",
      "C_SEV     0\n",
      "C_VEHS    3\n",
      "C_CONF    0\n",
      "C_RCFG    0\n",
      "C_WTHR    0\n",
      "C_RSUR    0\n",
      "C_RALN    0\n",
      "C_TRAF    0\n",
      "V_ID      0\n",
      "V_TYPE    0\n",
      "V_YEAR    0\n",
      "P_ID      0\n",
      "P_SEX     0\n",
      "P_AGE     0\n",
      "P_PSN     0\n",
      "P_ISEV    0\n",
      "P_SAFE    0\n",
      "P_USER    0\n",
      "dtype: int64\n"
     ]
    }
   ],
   "source": [
    "# find if there are any missing values\n",
    "print(df.isnull().sum())"
   ]
  },
  {
   "cell_type": "markdown",
   "metadata": {},
   "source": [
    "\n",
    "\n"
   ]
  },
  {
   "cell_type": "markdown",
   "metadata": {},
   "source": [
    "## Clean data:\n",
    "- Fix NA values\n",
    "- Fix value inconsistency in data\n",
    "- Handle missing values\n",
    "- For ML purposes, convert categorical feautures to dummy variables (commenting this out since ML is not used in this project)"
   ]
  },
  {
   "cell_type": "code",
   "execution_count": 5,
   "metadata": {},
   "outputs": [
    {
     "data": {
      "text/plain": [
       "(5860402, 22)"
      ]
     },
     "execution_count": 5,
     "metadata": {},
     "output_type": "execute_result"
    }
   ],
   "source": [
    "# Since just 3 rows out of 5860405 rows are missing, we can drop all na rows\n",
    "df.dropna(inplace=True)\n",
    "df.shape"
   ]
  },
  {
   "cell_type": "code",
   "execution_count": 6,
   "metadata": {},
   "outputs": [],
   "source": [
    "# Most of these columns have been poorly formated and that is beacuse they have some letters representing unknown values\n",
    "# I am replacing all symbols with NAN\n",
    "df.replace([\"U\", \"UU\", \"UUUU\", \"Q\", \"QQ\", \"QQQQ\", \"N\", \"NN\", \"NNNN\"], np.nan, inplace=True)"
   ]
  },
  {
   "cell_type": "code",
   "execution_count": 7,
   "metadata": {},
   "outputs": [],
   "source": [
    "# Seperate the data for future Machine Learning purposes (Not to be done in this project)\n",
    "# Create a dataset for only the categorical columns, another for the numerical columns and then y\n",
    "# This df to be used for future projects\n",
    "#df_cat = pd.get_dummies(df, columns=[\"C_CONF\", \"C_RCFG\", \"C_WTHR\", \"C_RSUR\", \"C_RALN\", \"C_TRAF\", \"V_TYPE\", \n",
    "#                                  \"P_SEX\", \"P_PSN\", \"P_ISEV\", \"P_SAFE\", \"P_USER\"])\n",
    "#df_num = df[[\"C_YEAR\", \"C_MNTH\", \"C_WDAY\", \"C_HOUR\", \"C_VEHS\", \"V_ID\", \"V_YEAR\", \"P_ID\", \"P_AGE\"]]\n",
    "#y = df[\"C_SEV\"].astype(int)\n",
    "#df_num = df_num.apply(pd.to_numeric)"
   ]
  },
  {
   "cell_type": "code",
   "execution_count": 8,
   "metadata": {},
   "outputs": [
    {
     "name": "stdout",
     "output_type": "stream",
     "text": [
      "<class 'pandas.core.frame.DataFrame'>\n",
      "Int64Index: 5860402 entries, 0 to 5860404\n",
      "Data columns (total 22 columns):\n",
      "C_YEAR    int64\n",
      "C_MNTH    float64\n",
      "C_WDAY    float64\n",
      "C_HOUR    float64\n",
      "C_SEV     int64\n",
      "C_VEHS    float64\n",
      "C_CONF    float64\n",
      "C_RCFG    float64\n",
      "C_WTHR    float64\n",
      "C_RSUR    float64\n",
      "C_RALN    float64\n",
      "C_TRAF    float64\n",
      "V_ID      float64\n",
      "V_TYPE    float64\n",
      "V_YEAR    float64\n",
      "P_ID      float64\n",
      "P_AGE     float64\n",
      "P_PSN     float64\n",
      "P_ISEV    float64\n",
      "P_SAFE    float64\n",
      "P_USER    float64\n",
      "P_SEX     object\n",
      "dtypes: float64(19), int64(2), object(1)\n",
      "memory usage: 1.0+ GB\n"
     ]
    }
   ],
   "source": [
    "# For analytics purposes, converting all columns in df to numeric except for P_SEX\n",
    "df_an = df.drop(\"P_SEX\", axis=1).apply(pd.to_numeric)\n",
    "df_an[\"P_SEX\"] = df.P_SEX\n",
    "df_new = df_an.copy()\n",
    "df_new.info()"
   ]
  },
  {
   "cell_type": "markdown",
   "metadata": {},
   "source": [
    "## Analyze and Visualize data:\n",
    "- Find the answers to the business questions raised\n",
    "- Visualize answers in interesting plots"
   ]
  },
  {
   "cell_type": "markdown",
   "metadata": {},
   "source": [
    "### Question 1: What Seasons of the year are more prone to accidents by severity\n"
   ]
  },
  {
   "cell_type": "code",
   "execution_count": 9,
   "metadata": {},
   "outputs": [
    {
     "data": {
      "text/plain": [
       "(5860017, 3)"
      ]
     },
     "execution_count": 9,
     "metadata": {},
     "output_type": "execute_result"
    }
   ],
   "source": [
    "# Create a datafram of just the columns needed for this question\n",
    "df_year = df_new[[\"C_YEAR\", \"C_MNTH\", \"C_SEV\"]].dropna()\n",
    "df_year.shape"
   ]
  },
  {
   "cell_type": "code",
   "execution_count": 10,
   "metadata": {},
   "outputs": [],
   "source": [
    "# Change year to Season and create a new column called \"Season\" and drop the \"C_MNTH\" column as it is no longer necessary\n",
    "def season_of_year(month):\n",
    "    \"\"\"\n",
    "    This function converts month of year to Season of year\n",
    "    \n",
    "    Key:\n",
    "    - Spring : March 1 - May 31\n",
    "    - Summer : June 1 - August 31\n",
    "    - Fall : September 1 - November 30\n",
    "    - Winter : December 1 - February 28 (29)\n",
    "    \n",
    "    Input :\n",
    "    - month of the year as a float\n",
    "    \n",
    "    Output:\n",
    "    - Season of the year as a string\n",
    "    \n",
    "    \"\"\"\n",
    "    \n",
    "    if (month > 2.0) & (month < 6.0):\n",
    "        return \"Spring\"\n",
    "    \n",
    "    elif (month > 5.0) & (month < 9.0):\n",
    "        return \"Summer\"\n",
    "    \n",
    "    elif (month > 8.0) & (month < 12.0):\n",
    "        return \"Fall\"\n",
    "    \n",
    "    else:\n",
    "        return \"Winter\"\n",
    "    \n",
    "df_year[\"Season\"] = df_year[\"C_MNTH\"].apply(season_of_year)\n",
    "df_year.drop(\"C_MNTH\", axis=1, inplace=True)\n"
   ]
  },
  {
   "cell_type": "code",
   "execution_count": 11,
   "metadata": {},
   "outputs": [],
   "source": [
    "def refine_dataset(dataset, col, drop):\n",
    "    \"\"\"\n",
    "    This function refines the dataset by seperating them into two datasets based on severity.\n",
    "    It also groups by the column(s) included and drops the unnecessary level formed by the grouping\n",
    "\n",
    "    Input :\n",
    "    - dataset and columns to perform grouping by\n",
    "    - drop which is a boolean value to indicate if a multilevel column needs to be dropped\n",
    "    \n",
    "    Output:\n",
    "    - Two dataset, one for each severity type\n",
    "    \n",
    "    \"\"\"\n",
    "    \n",
    "    df_sev1 = dataset[dataset.C_SEV == 1]\n",
    "    df_sev2 = dataset[dataset.C_SEV == 2]    \n",
    "        \n",
    "    if drop:\n",
    "        df_sev1 = df_sev1.groupby(col).count().unstack()\n",
    "        df_sev2 = df_sev2.groupby(col).count().unstack()\n",
    "        df_sev1.columns = df_sev1.columns.droplevel()\n",
    "        df_sev2.columns = df_sev2.columns.droplevel()\n",
    "        \n",
    "    else:\n",
    "        df_sev1 = df_sev1.groupby(col).count()\n",
    "        df_sev2 = df_sev2.groupby(col).count()\n",
    "        \n",
    "    return df_sev1, df_sev2"
   ]
  },
  {
   "cell_type": "code",
   "execution_count": 12,
   "metadata": {},
   "outputs": [],
   "source": [
    "df_sev1, df_sev2 = refine_dataset(df_year, [\"C_YEAR\", \"Season\"], True)\n",
    "# df_sev1"
   ]
  },
  {
   "cell_type": "code",
   "execution_count": 13,
   "metadata": {},
   "outputs": [
    {
     "data": {
      "text/plain": [
       "Text(0.5, 0, 'Year')"
      ]
     },
     "execution_count": 13,
     "metadata": {},
     "output_type": "execute_result"
    },
    {
     "data": {
      "image/png": "[encoded data removed]",
      "text/plain": [
       "<Figure size 432x288 with 2 Axes>"
      ]
     },
     "metadata": {
      "needs_background": "light"
     },
     "output_type": "display_data"
    }
   ],
   "source": [
    "# Plot as a line graph using subplot to capture both severity type\n",
    "fig, axes = plt.subplots(nrows=2, ncols=1, sharex=True)\n",
    "df_sev1.plot(kind=\"line\", ax=axes[0], title=\"Fatal accidents trend by Year and Season\")\n",
    "df_sev2.plot(kind=\"line\", ax=axes[1], title=\"Non-Fatal accidents trend by Year and Season\")\n",
    "plt.xlabel(\"Year\")"
   ]
  },
  {
   "cell_type": "markdown",
   "metadata": {},
   "source": [
    "#### - Answer: Apparently, Summer is the most deadly season of the year"
   ]
  },
  {
   "cell_type": "markdown",
   "metadata": {},
   "source": [
    "### Question 2 : How does Age and Sex affect accident severity?\n"
   ]
  },
  {
   "cell_type": "code",
   "execution_count": 14,
   "metadata": {},
   "outputs": [
    {
     "data": {
      "text/plain": [
       "(5426680, 3)"
      ]
     },
     "execution_count": 14,
     "metadata": {},
     "output_type": "execute_result"
    }
   ],
   "source": [
    "# Get the dataframe of relevant columns\n",
    "df_sex = df_new[[\"P_AGE\", \"P_SEX\", \"C_SEV\"]].dropna()\n",
    "df_sex.shape"
   ]
  },
  {
   "cell_type": "code",
   "execution_count": 15,
   "metadata": {},
   "outputs": [
    {
     "data": {
      "text/html": [
       "<div>\n",
       "<style scoped>\n",
       "    .dataframe tbody tr th:only-of-type {\n",
       "        vertical-align: middle;\n",
       "    }\n",
       "\n",
       "    .dataframe tbody tr th {\n",
       "        vertical-align: top;\n",
       "    }\n",
       "\n",
       "    .dataframe thead th {\n",
       "        text-align: right;\n",
       "    }\n",
       "</style>\n",
       "<table border=\"1\" class=\"dataframe\">\n",
       "  <thead>\n",
       "    <tr style=\"text-align: right;\">\n",
       "      <th></th>\n",
       "      <th>P_AGE</th>\n",
       "      <th>C_SEV</th>\n",
       "    </tr>\n",
       "  </thead>\n",
       "  <tbody>\n",
       "    <tr>\n",
       "      <th>count</th>\n",
       "      <td>5.426680e+06</td>\n",
       "      <td>5.426680e+06</td>\n",
       "    </tr>\n",
       "    <tr>\n",
       "      <th>mean</th>\n",
       "      <td>3.637552e+01</td>\n",
       "      <td>1.982670e+00</td>\n",
       "    </tr>\n",
       "    <tr>\n",
       "      <th>std</th>\n",
       "      <td>1.836858e+01</td>\n",
       "      <td>1.304989e-01</td>\n",
       "    </tr>\n",
       "    <tr>\n",
       "      <th>min</th>\n",
       "      <td>1.000000e+00</td>\n",
       "      <td>1.000000e+00</td>\n",
       "    </tr>\n",
       "    <tr>\n",
       "      <th>25%</th>\n",
       "      <td>2.100000e+01</td>\n",
       "      <td>2.000000e+00</td>\n",
       "    </tr>\n",
       "    <tr>\n",
       "      <th>50%</th>\n",
       "      <td>3.400000e+01</td>\n",
       "      <td>2.000000e+00</td>\n",
       "    </tr>\n",
       "    <tr>\n",
       "      <th>75%</th>\n",
       "      <td>4.900000e+01</td>\n",
       "      <td>2.000000e+00</td>\n",
       "    </tr>\n",
       "    <tr>\n",
       "      <th>max</th>\n",
       "      <td>9.900000e+01</td>\n",
       "      <td>2.000000e+00</td>\n",
       "    </tr>\n",
       "  </tbody>\n",
       "</table>\n",
       "</div>"
      ],
      "text/plain": [
       "              P_AGE         C_SEV\n",
       "count  5.426680e+06  5.426680e+06\n",
       "mean   3.637552e+01  1.982670e+00\n",
       "std    1.836858e+01  1.304989e-01\n",
       "min    1.000000e+00  1.000000e+00\n",
       "25%    2.100000e+01  2.000000e+00\n",
       "50%    3.400000e+01  2.000000e+00\n",
       "75%    4.900000e+01  2.000000e+00\n",
       "max    9.900000e+01  2.000000e+00"
      ]
     },
     "execution_count": 15,
     "metadata": {},
     "output_type": "execute_result"
    }
   ],
   "source": [
    "# find data range\n",
    "df_sex.describe()"
   ]
  },
  {
   "cell_type": "code",
   "execution_count": 16,
   "metadata": {},
   "outputs": [],
   "source": [
    "# Create age band in new column called \"Age Band\" and drop the \"P_AGE\" column as it is no longer necessary\n",
    "def get_age_band(age):\n",
    "    \"\"\"\n",
    "    This function puts the passenger in the appropriate age band\n",
    "    \n",
    "    Bands are:\n",
    "    - 0 - 14\n",
    "    - 15 - 24\n",
    "    - 25 - 34\n",
    "    - 35 - 44\n",
    "    - 45 - 54\n",
    "    - 55 - 64\n",
    "    - 65 - 74\n",
    "    - 75 - 84\n",
    "    - 85 - 99\n",
    "    \n",
    "    Input :\n",
    "    - passenger's age as float\n",
    "    \n",
    "    Output:\n",
    "    - Age band as a string\n",
    "    \n",
    "    \"\"\"\n",
    "    \n",
    "    if (age > 0.0) & (age < 15.0):\n",
    "        return \"0 - 14\"\n",
    "    \n",
    "    elif (age > 14.0) & (age < 25.0):\n",
    "        return \"15 - 24\"\n",
    "    \n",
    "    elif (age > 24.0) & (age < 35.0):\n",
    "        return \"25 - 34\"\n",
    "    \n",
    "    elif (age > 34.0) & (age < 45.0):\n",
    "        return \"35 - 44\"\n",
    "    \n",
    "    elif (age > 44.0) & (age < 55.0):\n",
    "        return \"45 - 54\"\n",
    "    \n",
    "    elif (age > 54.0) & (age < 65.0):\n",
    "        return \"55 - 64\"\n",
    "    \n",
    "    elif (age > 64.0) & (age < 75.0):\n",
    "        return \"55 - 74\"\n",
    "    \n",
    "    elif (age > 74.0) & (age < 85.0):\n",
    "        return \"75 - 84\"\n",
    "    \n",
    "    else:\n",
    "        return \"85 - 99\"\n",
    "    \n",
    "df_sex[\"Age Band\"] = df_sex[\"P_AGE\"].apply(get_age_band)\n",
    "df_sex.drop(\"P_AGE\", axis=1, inplace=True)\n"
   ]
  },
  {
   "cell_type": "code",
   "execution_count": 17,
   "metadata": {},
   "outputs": [],
   "source": [
    "# Seperate dataset by Fatality severity where \"1\" indicates at least one fatality and \"2\" , a non-fatal injury\n",
    "df_sex.rename(columns={\"P_SEX\" : \"SEX\"}, inplace=True)\n",
    "df_sev1, df_sev2 = refine_dataset(df_sex, [\"Age Band\", \"SEX\"], True)"
   ]
  },
  {
   "cell_type": "code",
   "execution_count": 18,
   "metadata": {},
   "outputs": [
    {
     "data": {
      "text/plain": [
       "Text(0.5, 0, 'Age Band')"
      ]
     },
     "execution_count": 18,
     "metadata": {},
     "output_type": "execute_result"
    },
    {
     "data": {
      "image/png": "[encoded data removed]",
      "text/plain": [
       "<Figure size 432x288 with 2 Axes>"
      ]
     },
     "metadata": {
      "needs_background": "light"
     },
     "output_type": "display_data"
    }
   ],
   "source": [
    "# Plot as a bar graph using subplot to capture both severity type\n",
    "fig, axes = plt.subplots(nrows=2, ncols=1, sharex=True)\n",
    "df_sev1.plot(kind=\"bar\", ax=axes[0], title=\"Fatal accidents trend by Age Band and Sex\")\n",
    "df_sev2.plot(kind=\"bar\", ax=axes[1], title=\"Non-Fatal accidents trend by Age Band and Sex\")\n",
    "plt.xlabel(\"Age Band\")"
   ]
  },
  {
   "cell_type": "markdown",
   "metadata": {},
   "source": [
    "#### - Answer: Yes, age band 15-24 are the most prone to accidents and generally males are involved in more accidents than females"
   ]
  },
  {
   "cell_type": "markdown",
   "metadata": {},
   "source": [
    "### Question 3: What hours of the day and what days of the week are the deadliest?\n"
   ]
  },
  {
   "cell_type": "code",
   "execution_count": 19,
   "metadata": {},
   "outputs": [
    {
     "data": {
      "text/plain": [
       "(5800190, 3)"
      ]
     },
     "execution_count": 19,
     "metadata": {},
     "output_type": "execute_result"
    }
   ],
   "source": [
    "# Get the dataframe of relevant columns\n",
    "df_day = df_new[[\"C_WDAY\", \"C_HOUR\", \"C_SEV\"]].dropna()\n",
    "df_day.shape"
   ]
  },
  {
   "cell_type": "code",
   "execution_count": 20,
   "metadata": {},
   "outputs": [
    {
     "name": "stdout",
     "output_type": "stream",
     "text": [
      "The deadliest hour for Fatal accidents is between 16:00 to 16:59\n",
      "The deadliest hour for Non Fatal accidents is between 16:00 to 16:59\n"
     ]
    },
    {
     "data": {
      "text/plain": [
       "Text(0.5, 0, 'Hour')"
      ]
     },
     "execution_count": 20,
     "metadata": {},
     "output_type": "execute_result"
    },
    {
     "data": {
      "image/png": "[encoded data removed]",
      "text/plain": [
       "<Figure size 432x288 with 2 Axes>"
      ]
     },
     "metadata": {
      "needs_background": "light"
     },
     "output_type": "display_data"
    }
   ],
   "source": [
    "# Seperate dataset by Fatality severity where \"1\" indicates at least one fatality and \"2\" , a non-fatal injury\n",
    "df_hour = df_day[[\"C_HOUR\", \"C_SEV\"]]\n",
    "df_sev1, df_sev2 = refine_dataset(df_hour, [\"C_HOUR\"], False)\n",
    "df_sev1[\"Hour of Day\"] = [\"00\", \"01\", \"02\", \"03\", \"04\", \"05\", \"06\", \"07\", \"08\", \"09\", \"10\", \"11\", \"12\", \"13\", \"14\", \"15\", \"16\", \n",
    "                     \"17\", \"18\", \"19\", \"20\", \"21\", \"22\", \"23\"]\n",
    "df_sev2[\"Hour of Day\"] = [\"00\", \"01\", \"02\", \"03\", \"04\", \"05\", \"06\", \"07\", \"08\", \"09\", \"10\", \"11\", \"12\", \"13\", \"14\", \"15\", \"16\", \n",
    "                     \"17\", \"18\", \"19\", \"20\", \"21\", \"22\", \"23\"]\n",
    "df_sev1.set_index(\"Hour of Day\", inplace=True)\n",
    "\n",
    "ind1 = int(df_sev1[\"C_SEV\"].idxmax())\n",
    "ind2 = int(df_sev2[\"C_SEV\"].idxmax())\n",
    "print(\"The deadliest hour for Fatal accidents is between {}:00 to {}:59\".format(ind1, ind1))\n",
    "print(\"The deadliest hour for Non Fatal accidents is between {}:00 to {}:59\".format(ind2, ind2))\n",
    "\n",
    "\n",
    "# Plot as a line graph using subplot to capture both severity type\n",
    "fig, axes = plt.subplots(nrows=2, ncols=1, sharex=True)\n",
    "df_sev1.plot(kind=\"line\", ax=axes[0], title=\"Fatal accidents trend by Hour\", legend=False, color=\"#fc03ca\")\n",
    "df_sev2.plot(kind=\"line\", ax=axes[1], title=\"Non-Fatal accidents trend by Hour\", legend=False, color=\"#84fc03\")\n",
    "plt.xlabel(\"Hour\")"
   ]
  },
  {
   "cell_type": "code",
   "execution_count": 21,
   "metadata": {},
   "outputs": [
    {
     "name": "stdout",
     "output_type": "stream",
     "text": [
      "The deadliest Week Day for Fatal accidents is Sat\n",
      "The deadliest hour for Non Fatal accidents is Frid\n"
     ]
    },
    {
     "data": {
      "text/plain": [
       "Text(0.5, 0, 'Week Day')"
      ]
     },
     "execution_count": 21,
     "metadata": {},
     "output_type": "execute_result"
    },
    {
     "data": {
      "image/png": "[encoded data removed]",
      "text/plain": [
       "<Figure size 432x288 with 2 Axes>"
      ]
     },
     "metadata": {
      "needs_background": "light"
     },
     "output_type": "display_data"
    }
   ],
   "source": [
    "# Get relevant dataset and refine accordingly\n",
    "df_wday = df_day[[\"C_WDAY\", \"C_SEV\"]]\n",
    "df_sev1, df_sev2 = refine_dataset(df_wday, [\"C_WDAY\"], False)\n",
    "\n",
    "\n",
    "df_sev1[\"Week Day\"] = [\"Mon\", \"Tues\", \"Wed\", \"Thurs\", \"Frid\", \"Sat\", \"Sun\"]\n",
    "df_sev1.set_index('Week Day', inplace=True)\n",
    "df_sev2[\"Week Day\"] = [\"Mon\", \"Tues\", \"Wed\", \"Thurs\", \"Frid\", \"Sat\", \"Sun\"]\n",
    "df_sev2.set_index('Week Day', inplace=True)\n",
    "\n",
    "print(\"The deadliest Week Day for Fatal accidents is {}\".format(df_sev1[\"C_SEV\"].idxmax()))\n",
    "print(\"The deadliest hour for Non Fatal accidents is {}\".format(df_sev2[\"C_SEV\"].idxmax()))\n",
    "\n",
    "# Plot as a line graph using subplot to capture both severity type\n",
    "fig, axes = plt.subplots(nrows=2, ncols=1, sharex=True)\n",
    "df_sev1.plot(kind=\"line\", ax=axes[0], title=\"Fatal accidents trend by Day\", legend=False, color=\"#fc0303\")\n",
    "df_sev2.plot(kind=\"line\", ax=axes[1], title=\"Non-Fatal accidents trend by Day\", legend=False, color=\"#0328fc\")\n",
    "plt.xlabel(\"Week Day\")\n"
   ]
  },
  {
   "cell_type": "code",
   "execution_count": null,
   "metadata": {},
   "outputs": [],
   "source": []
  }
 ],
 "metadata": {
  "kernelspec": {
   "display_name": "Python 3",
   "language": "python",
   "name": "python3"
  },
  "language_info": {
   "codemirror_mode": {
    "name": "ipython",
    "version": 3
   },
   "file_extension": ".py",
   "mimetype": "text/x-python",
   "name": "python",
   "nbconvert_exporter": "python",
   "pygments_lexer": "ipython3",
   "version": "3.7.3"
  }
 },
 "nbformat": 4,
 "nbformat_minor": 2
}
